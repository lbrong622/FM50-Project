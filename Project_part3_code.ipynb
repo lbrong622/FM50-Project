{
  "nbformat": 4,
  "nbformat_minor": 0,
  "metadata": {
    "colab": {
      "name": "Project_part3_code",
      "provenance": [],
      "collapsed_sections": [],
      "machine_shape": "hm",
      "include_colab_link": true
    },
    "kernelspec": {
      "display_name": "Python 3",
      "language": "python",
      "name": "python3"
    },
    "language_info": {
      "codemirror_mode": {
        "name": "ipython",
        "version": 3
      },
      "file_extension": ".py",
      "mimetype": "text/x-python",
      "name": "python",
      "nbconvert_exporter": "python",
      "pygments_lexer": "ipython3",
      "version": "3.7.7"
    },
    "accelerator": "TPU"
  },
  "cells": [
    {
      "cell_type": "markdown",
      "metadata": {
        "id": "view-in-github",
        "colab_type": "text"
      },
      "source": [
        "<a href=\"https://colab.research.google.com/github/lbrong622/practice/blob/master/Project_part3_code.ipynb\" target=\"_parent\"><img src=\"https://colab.research.google.com/assets/colab-badge.svg\" alt=\"Open In Colab\"/></a>"
      ]
    },
    {
      "cell_type": "code",
      "metadata": {
        "colab_type": "code",
        "id": "TvjP7hhehk-9",
        "colab": {}
      },
      "source": [
        "\n",
        "\n",
        "import numpy as np\n",
        "import tensorflow as tf\n",
        "import numpy.random as npr\n",
        "import tensorflow.keras as keras\n",
        "from tensorflow.keras.layers import Input, Dense, Concatenate, Subtract, Multiply, Lambda, Add, Dot\n",
        "from tensorflow.keras.backend import constant\n",
        "from tensorflow.keras import optimizers\n",
        "from tensorflow.keras.models import Model\n",
        "from tensorflow.keras.layers import Input\n",
        "from tensorflow.keras import initializers\n",
        "import tensorflow.keras.backend as K\n",
        "import scipy.stats as st\n",
        "import math\n",
        "import matplotlib.pyplot as plt\n",
        "import tensorflow_probability as tfp\n",
        "plt.style.use('ggplot')"
      ],
      "execution_count": null,
      "outputs": []
    },
    {
      "cell_type": "markdown",
      "metadata": {
        "id": "v3EgD06bA1eN",
        "colab_type": "text"
      },
      "source": [
        "# Define functions and generate data"
      ]
    },
    {
      "cell_type": "code",
      "metadata": {
        "colab_type": "code",
        "id": "HVQFsUogYJe1",
        "colab": {}
      },
      "source": [
        "S = 1\n",
        "U = 2\n",
        "T = 0.5\n",
        "r0 = 0.02\n",
        "a = 0.5\n",
        "b = 0.05\n",
        "sigma = 0.05\n",
        "mu = b + sigma/a\n",
        "ntrain= 500000\n",
        "ntest  = 300000\n",
        "nSteps = 100"
      ],
      "execution_count": null,
      "outputs": []
    },
    {
      "cell_type": "code",
      "metadata": {
        "colab_type": "code",
        "id": "haCVfHLPTS_9",
        "colab": {}
      },
      "source": [
        "def simulateVasicek(a, mu, sigma, T, r0, nPaths, nSteps):\n",
        "    dt = T/nSteps\n",
        "    times = np.arange(0,T+dt,dt)\n",
        "    curr_r= r0\n",
        "    r = np.zeros((nPaths, nSteps))\n",
        "    first = math.exp(-a*dt)\n",
        "    for i in range(nSteps):\n",
        "        dW = npr.normal(0,1,(nPaths,))\n",
        "        curr_r = curr_r*first + mu*(1-first) + sigma * math.sqrt((1-first**2)/(2*a))*dW\n",
        "        r[:,i] = curr_r\n",
        "    r = np.reshape(r,(nPaths,nSteps))\n",
        "    return r,times\n",
        "\n",
        "def affinebondprcing(a,b, sigma,t, s, r_t):\n",
        "    B = (1-math.exp(-a*(s-t)))/a\n",
        "    A = math.exp((b - 0.5*(sigma/a)**2)*(B-s+t) - 0.25*B**2 * sigma**2/a)\n",
        "    price =  A* np.exp(-B*r_t)\n",
        "    dur = np.multiply(-B, price)\n",
        "    con = np.multiply(pow(B,2), price)\n",
        "    return price, dur, con\n",
        "#price the dt-maturity zero coupon bond, which can be regarded as a money market discounting rate\n",
        "def ShortMaturityPricing(r_t):\n",
        "    a = 0.5\n",
        "    b = 0.05\n",
        "    sigma = 0.05\n",
        "    dt = 0.5/100\n",
        "    B = (1-math.exp(-a*(dt)))/a\n",
        "    A = math.exp((b - 0.5*(sigma/a)**2)*(B-dt) - 0.25*B**2 * sigma**2/a)\n",
        "    rate =  A* np.exp(-B*r_t)\n",
        "    return rate\n",
        "    \n",
        "def accrue_moneymarket_discount(moneymarket):\n",
        "    accrue  = 1\n",
        "    for i in range(nSteps):\n",
        "        accrue = np.multiply(accrue, moneymarket[:,i])\n",
        "  \n",
        "    return accrue "
      ],
      "execution_count": null,
      "outputs": []
    },
    {
      "cell_type": "code",
      "metadata": {
        "colab_type": "code",
        "id": "Q2j-CU3R0uGU",
        "colab": {}
      },
      "source": [
        "def HedgeWithS_Ubond( r_paths, nPaths, nSteps, charge, tx_costs,epsilon):\n",
        "  T = 0.5\n",
        "  U = 2\n",
        "  S = 1\n",
        "  r0 = 0.02\n",
        "  a = 0.5\n",
        "  b = 0.05\n",
        "  sigma = 0.05\n",
        "  lamada = -1\n",
        "  mu = b - lamada*sigma/a\n",
        "  dt = T/nSteps\n",
        "  tim = np.arange(0,T+dt,dt)\n",
        "  strategy_S = np.zeros((nPaths, nSteps))\n",
        "  strategy_U = np.zeros((nPaths, nSteps))\n",
        "  cost = np.zeros((nPaths, nSteps+1))\n",
        "  #simulate interest paths in P measure\n",
        "  #inital status: the trader issue a T-bond and hold Q_0 positions of S-bond\n",
        "  # the rest of her weath will be invested in short maturity ZCBs\n",
        "  price_T, Dur_T, Con_T = affinebondprcing(a,b, sigma,0, T, r0)\n",
        "  price_S, Dur_S, Con_S = affinebondprcing(a,b, sigma,0, S, r0)\n",
        "  price_U, Dur_U, Con_U = affinebondprcing(a,b, sigma,0, U, r0)\n",
        "  InitialWeath = charge\n",
        "  Quantity_S = (Con_U*Dur_T - Dur_U*Con_T)/(Dur_S*Con_U - Dur_U*Con_S)\n",
        "  Quantity_U = (Con_T*Dur_S - Dur_T*Con_S)/(Dur_S*Con_U - Dur_U*Con_S)\n",
        "  amount_to_buy = Quantity_S * price_S + Quantity_U * price_U\n",
        "  moneyAccount = InitialWeath -amount_to_buy\n",
        "  if tx_costs == True:\n",
        "    transaction_costs = epsilon* (abs(Quantity_S) * price_S + abs(Quantity_U) * price_U)\n",
        "    moneyAccount = moneyAccount -transaction_costs\n",
        "    cost[:,0] = transaction_costs\n",
        "\n",
        "  q_moneyaccount= moneyAccount / ShortMaturityPricing(r0)\n",
        "  strategy_S[:,0] = Quantity_S\n",
        "  strategy_U[:,0] = Quantity_U\n",
        "  \n",
        "\n",
        "  for i in range(nSteps-1):\n",
        "      _, Dur_T,Con_T = affinebondprcing(a,b, sigma, tim[i+1], T, r_paths[:,i+1])\n",
        "      price_S, Dur_S, Con_S = affinebondprcing(a,b, sigma,tim[i+1] , S, r_paths[:,i+1])\n",
        "      price_U, Dur_U, Con_U = affinebondprcing(a,b, sigma,tim[i+1] , U, r_paths[:,i+1])\n",
        "    #liqudation of the previous step\n",
        "      moneyAccount = 1* q_moneyaccount\n",
        "       \n",
        "    #duration and convexity  neutral\n",
        "\n",
        "      newQuantity_S = np.divide((np.multiply(Con_U,Dur_T) - \\\n",
        "                                 np.multiply(Dur_U,Con_T)), (np.multiply(Dur_S,Con_U) - np.multiply(Dur_U, Con_S)))\n",
        "      newQuantity_U = np.divide((np.multiply(Con_T,Dur_S ) - \\\n",
        "                                 np.multiply(Dur_T,Con_S)), (np.multiply(Dur_S,Con_U) - np.multiply(Dur_U, Con_S)))\n",
        "\n",
        "      rebalance =  np.multiply( newQuantity_S, price_S) + np.multiply(newQuantity_U, price_U)  - \\\n",
        "      np.multiply(Quantity_S , price_S) - np.multiply(Quantity_U , price_U)\n",
        "\n",
        "      moneyAccount = moneyAccount - rebalance\n",
        "\n",
        "      if tx_costs == True:\n",
        "        absChange = np.abs(np.multiply( newQuantity_S, price_S)  - np.multiply(Quantity_S , price_S)) + \\\n",
        "        np.abs(np.multiply(newQuantity_U, price_U) - np.multiply(Quantity_U , price_U))\n",
        "        transaction_costs = epsilon* absChange\n",
        "        moneyAccount = moneyAccount -  transaction_costs\n",
        "        cost[:,i+1] = transaction_costs\n",
        "    # holding postions for the next step\n",
        "      q_moneyaccount = np.divide(moneyAccount , ShortMaturityPricing(r_paths[:,i+1]))\n",
        "      strategy_S[:,i+1] = newQuantity_S \n",
        "      strategy_U[:,i+1] = newQuantity_U \n",
        "      Quantity_S = newQuantity_S\n",
        "      Quantity_U = newQuantity_U\n",
        "\n",
        "\n",
        "      #final step the trader will pay the payoff of T-bond and sell all her\n",
        "      #holding positons\n",
        "  liability = 1 # 1 unit T-bond\n",
        "  Price_S,_,_= affinebondprcing(a,b, sigma,T, S, r_paths[:,nSteps])\n",
        "  Price_U,_,_= affinebondprcing(a,b, sigma,T, U, r_paths[:,nSteps])\n",
        "  liquidation = q_moneyaccount*1 + np.multiply(Quantity_S, Price_S)+ np.multiply(Quantity_U, Price_U)\n",
        "  PnL = liquidation  - liability\n",
        "  if tx_costs == True:\n",
        "    transaction_costs = epsilon* (np.abs(np.multiply(Quantity_S, Price_S)) + np.abs(np.multiply(Quantity_U, Price_U)))\n",
        "    cost[:,-1] = transaction_costs\n",
        "    PnL = PnL - transaction_costs \n",
        "        # this the VaR for  the of the whole hedging horizon \n",
        "  return PnL,strategy_S,strategy_U,cost\n",
        "    \n"
      ],
      "execution_count": null,
      "outputs": []
    },
    {
      "cell_type": "code",
      "metadata": {
        "colab_type": "code",
        "id": "LnvCfC_fmcH_",
        "colab": {}
      },
      "source": [
        "#####Simple Feedforward neural network without transaction cost\n",
        "def FeedSU_bond_FNN(trans_costs = None, charge = None, selling = None, epsilon = None):\n",
        "  initializers = tf.keras.initializers.RandomNormal(mean = 0, stddev=0.1)\n",
        "  layer1 = keras.layers.Dense(10,activation = 'relu', kernel_initializer= initializers)\n",
        "  layer2 = keras.layers.Dense(10,activation = 'relu', kernel_initializer=initializers)\n",
        "  bn1 = keras.layers.BatchNormalization(momentum=0.99)\n",
        "  bn2 = keras.layers.BatchNormalization(momentum=0.99)\n",
        "  bn3 = keras.layers.BatchNormalization(momentum=0.99)\n",
        "\n",
        "  N = nSteps+1\n",
        "  dt = T/nSteps\n",
        "  time = np.arange(0,dt+T,dt)\n",
        "  inputs =  []\n",
        "  inputs1 = []\n",
        "  inputs2 = []\n",
        "  if selling == True:\n",
        "    initial_charge = charge\n",
        "    payment = 1\n",
        "  else:\n",
        "    initial_charge = 0\n",
        "    payment = 0\n",
        " \n",
        "  for j in range(N):\n",
        "        \n",
        "        if j < N-1:\n",
        "            \n",
        "                \n",
        "                price = Input(shape = (2,))\n",
        "                moneymarket_price = Input(shape = (1,))\n",
        "                x = layer1(price)\n",
        "                x = bn1(x)       \n",
        "                x = layer2(x)\n",
        "                x = bn2(x)\n",
        "                strategy = keras.layers.Dense(2,activation='elu',kernel_initializer=initializers,name = 'strategy' + str(j))(x)\n",
        "\n",
        "                if j == 0:\n",
        "                    \n",
        "                        holding_strategy = tf.zeros_like(strategy)\n",
        "            \n",
        "                \n",
        "                    \n",
        "                rebalance = Subtract()([strategy, holding_strategy])\n",
        "                holding_strategy = strategy\n",
        "                rebalance_cashflow = Multiply()([rebalance,price])\n",
        "                \n",
        "\n",
        "                if trans_costs == True:\n",
        "                    \n",
        "                        absolutechanges = Lambda(lambda x : K.abs(x))(rebalance_cashflow)\n",
        "                        transaction_costs = Lambda(lambda x : epsilon*x, \\\n",
        "                                                   name = 'transanction_costs'+ str(j))(absolutechanges)\n",
        "                        transaction_costs  = K.sum(transaction_costs , axis = -1)\n",
        "                        \n",
        "\n",
        "                rebalance_cashflow = K.sum(rebalance_cashflow, axis = -1) \n",
        "\n",
        "                if j == 0:\n",
        "                    \n",
        "                        wealth = Lambda(lambda x : initial_charge - x)(rebalance_cashflow)\n",
        "                else:\n",
        "                    \n",
        "                        wealth = Subtract()([wealth, rebalance_cashflow])\n",
        "                if trans_costs == True:       \n",
        "                        wealth = Subtract()([wealth, transaction_costs])\n",
        "                        \n",
        "                wealth = Multiply(name = 'moneymarket'+ str(j))([wealth, 1/moneymarket_price])#invest the rest of her wealth in money market\n",
        "                inputs1.append(price)\n",
        "                inputs2.append(moneymarket_price)\n",
        "                \n",
        "                \n",
        "        else:\n",
        "            #final step\n",
        "                price = Input(shape = (2,))\n",
        "                moneymarket_price  = Input(shape = (1,))\n",
        "                liquadation = Multiply()([holding_strategy,price])\n",
        "                \n",
        "                if trans_costs == True:\n",
        "                    \n",
        "                        absolutechanges = Lambda(lambda x : K.abs(x))(liquadation)\n",
        "                        transaction_costs = Lambda(lambda x : epsilon * x, \\\n",
        "                                                   name = 'transanction_costs'+ str(j))(absolutechanges)  \n",
        "                        liquadation = Subtract()([liquadation, transaction_costs])\n",
        "\n",
        "\n",
        "                liquadation = K.sum(liquadation, axis = -1)        \n",
        "                wealth = Add()([wealth,liquadation])\n",
        "                wealth = Lambda(lambda x: x - payment)(wealth)\n",
        "                inputs1.append(price)\n",
        "                inputs2.append(moneymarket_price)\n",
        "                \n",
        "\n",
        "  \n",
        "               \n",
        "  inputs = inputs1 + inputs2      \n",
        " \n",
        "  model = keras.models.Model(inputs = inputs , outputs = wealth)\n",
        "  return model"
      ],
      "execution_count": null,
      "outputs": []
    },
    {
      "cell_type": "markdown",
      "metadata": {
        "colab_type": "text",
        "id": "svAVxpWtihbn"
      },
      "source": [
        "Generate data for training and test"
      ]
    },
    {
      "cell_type": "code",
      "metadata": {
        "colab_type": "code",
        "id": "T61HnvWZWFW6",
        "colab": {
          "base_uri": "https://localhost:8080/",
          "height": 34
        },
        "outputId": "615b5431-5a21-4be1-c395-c11816ebc0fa"
      },
      "source": [
        "rtrain,times = simulateVasicek(a, mu, sigma , T, r0, ntrain, nSteps)\n",
        "r_0 = [r0]\n",
        "r_0 = np.repeat(r_0,ntrain,axis =0)\n",
        "r_train = np.concatenate((np.reshape(r_0,(ntrain,1)),rtrain),axis = 1)\n",
        "print(np.shape(r_train))\n",
        "\n"
      ],
      "execution_count": null,
      "outputs": [
        {
          "output_type": "stream",
          "text": [
            "(500000, 101)\n"
          ],
          "name": "stdout"
        }
      ]
    },
    {
      "cell_type": "code",
      "metadata": {
        "colab_type": "code",
        "id": "Y91IiPzicrHE",
        "colab": {
          "base_uri": "https://localhost:8080/",
          "height": 34
        },
        "outputId": "80b29702-1c59-433d-aed6-168effaa68ab"
      },
      "source": [
        "rtest,times = simulateVasicek(a, mu, sigma , T, r0, ntest, nSteps)\n",
        "r_0 = [r0]\n",
        "r_0 = np.repeat(r_0,ntest,axis =0)\n",
        "r_test = np.concatenate((np.reshape(r_0,(ntest,1)),rtest),axis = 1)\n",
        "\n",
        "print(np.shape(r_test))"
      ],
      "execution_count": null,
      "outputs": [
        {
          "output_type": "stream",
          "text": [
            "(300000, 101)\n"
          ],
          "name": "stdout"
        }
      ]
    },
    {
      "cell_type": "code",
      "metadata": {
        "colab_type": "code",
        "id": "XoRzK9gP7w2H",
        "colab": {}
      },
      "source": [
        "# Generate the training and testing data set\n",
        "price_S = np.zeros((ntrain,nSteps+1))\n",
        "price_U = np.zeros((ntrain,nSteps+1))\n",
        "prc_S_test = np.zeros((ntest,nSteps+1))\n",
        "prc_U_test = np.zeros((ntest,nSteps+1))\n",
        "moneymarket = np.zeros((ntrain,nSteps+1))\n",
        "moneymarket_test = np.zeros((ntest,nSteps+1))\n",
        "for i in range(nSteps+1):\n",
        "    price_U[:,i],_ , _   = affinebondprcing(a,b, sigma, times[i] , U , r_train[:,i])\n",
        "    price_S[:,i],_ , _   = affinebondprcing(a,b, sigma, times[i] , S , r_train[:,i])\n",
        "    prc_U_test[:,i],_ , _ = affinebondprcing(a,b, sigma, times[i] , U , r_test[:,i])\n",
        "    prc_S_test[:,i],_ , _ = affinebondprcing(a,b, sigma, times[i] , S , r_test[:,i])\n",
        "    moneymarket[:,i] = ShortMaturityPricing(r_train[:,i])\n",
        "    moneymarket_test[:,i] = ShortMaturityPricing(r_test[:,i])"
      ],
      "execution_count": null,
      "outputs": []
    },
    {
      "cell_type": "code",
      "metadata": {
        "id": "cGp7S1BXJEw8",
        "colab_type": "code",
        "cellView": "both",
        "colab": {
          "base_uri": "https://localhost:8080/",
          "height": 51
        },
        "outputId": "26cd66da-396a-4835-e5d5-92205865663e"
      },
      "source": [
        "FeedSUtrain = []\n",
        "for i in range(nSteps+1):\n",
        "  S_helper = np.reshape(price_S[:,i],(ntrain,1))\n",
        "  U_helper = np.reshape(price_U[:,i],(ntrain,1))\n",
        "  FeedSUtrain.append(np.concatenate((S_helper,U_helper),axis =1))\n",
        "for i in range(nSteps+1):\n",
        "  moneymarket_helper = np.reshape(moneymarket[:,i],(ntrain,1)) \n",
        "  FeedSUtrain.append(moneymarket_helper)\n",
        "\n",
        "print(np.shape(FeedSUtrain[1]))\n",
        "\n",
        "FeedSUtest = []\n",
        "for i in range(nSteps+1):\n",
        "  S_helper = np.reshape(prc_S_test[:,i],(ntest,1))\n",
        "  U_helper = np.reshape(prc_U_test[:,i],(ntest,1))\n",
        "  FeedSUtest.append(np.concatenate((S_helper, U_helper),axis =1))\n",
        "for i in range(nSteps+1):\n",
        "  moneymarket_helper = np.reshape(moneymarket_test[:,i],(ntest,1)) \n",
        "  FeedSUtest.append(moneymarket_helper)\n",
        " \n",
        "print(np.shape(FeedSUtest[1]))"
      ],
      "execution_count": null,
      "outputs": [
        {
          "output_type": "stream",
          "text": [
            "(500000, 2)\n",
            "(300000, 2)\n"
          ],
          "name": "stdout"
        }
      ]
    },
    {
      "cell_type": "code",
      "metadata": {
        "colab_type": "code",
        "id": "cTX412MdWk0_",
        "colab": {
          "base_uri": "https://localhost:8080/",
          "height": 34
        },
        "outputId": "ad5ca2ff-76d5-41bf-adff-70a0078a7610"
      },
      "source": [
        "###inital charge of the T-bond, which is the risk neutral price\n",
        "charge ,_ ,_ =  affinebondprcing(a,b, sigma,0 , T, r0)\n",
        "print(charge)\n",
        "moneymarket_discount_test = accrue_moneymarket_discount(moneymarket_test)\n",
        "moneymarket_discount_train = accrue_moneymarket_discount(moneymarket)"
      ],
      "execution_count": null,
      "outputs": [
        {
          "output_type": "stream",
          "text": [
            "0.9883833161922158\n"
          ],
          "name": "stdout"
        }
      ]
    },
    {
      "cell_type": "code",
      "metadata": {
        "colab_type": "code",
        "id": "9SlDZdVqOC8k",
        "cellView": "both",
        "colab": {}
      },
      "source": [
        "# Ture label, the hedging error(PnL)\n",
        "#if charge risk neutral or not sell\n",
        "ytrain = np.zeros((ntrain))\n",
        "print(np.shape(ytrain))\n",
        "#if don't charge\n",
        "ytrain_nocharge = -1*charge/moneymarket_discount_train\n",
        "print(np.shape(ytrain))\n",
        "plt.hist(ytrain_nocharge, bins = 40)\n"
      ],
      "execution_count": null,
      "outputs": []
    },
    {
      "cell_type": "markdown",
      "metadata": {
        "colab_type": "text",
        "id": "EzSAamEm4QNW"
      },
      "source": [
        "Check the data we generated"
      ]
    },
    {
      "cell_type": "code",
      "metadata": {
        "colab_type": "code",
        "id": "tUWd9JvioA7T",
        "colab": {
          "base_uri": "https://localhost:8080/",
          "height": 268
        },
        "outputId": "fc7f589d-3581-4f21-9436-37373ef12fc3"
      },
      "source": [
        "\n",
        "\n",
        "for i in range(5):\n",
        "  plt.plot(price_S[i,:])\n",
        "  plt.plot(price_U[i,:])\n"
      ],
      "execution_count": null,
      "outputs": [
        {
          "output_type": "display_data",
          "data": {
            "image/png": "[encoded data removed]",
            "text/plain": [
              "<Figure size 432x288 with 1 Axes>"
            ]
          },
          "metadata": {
            "tags": []
          }
        }
      ]
    },
    {
      "cell_type": "markdown",
      "metadata": {
        "id": "_YYa3QjSM5GT",
        "colab_type": "text"
      },
      "source": [
        "# Convex Risk measure"
      ]
    },
    {
      "cell_type": "code",
      "metadata": {
        "colab_type": "code",
        "id": "Es1XeHtLOmCg",
        "cellView": "both",
        "colab": {}
      },
      "source": [
        "def CVaR_95(y_true, y_pred):\n",
        "  alpha = 0.95\n",
        "  loss = -(y_pred - y_true)\n",
        "  VaR = tfp.stats.percentile(loss,alpha*100)\n",
        "  tail = loss[loss>=VaR]\n",
        "  CVaR = K.mean(tail)\n",
        "  return CVaR\n",
        "\n",
        "def CVaR_05(y_true, y_pred):\n",
        "  alpha = 0.5\n",
        "  loss = -(y_pred - y_true)\n",
        "  VaR = tfp.stats.percentile(loss,alpha*100)\n",
        "  tail = loss[loss>=VaR]\n",
        "  CVaR = K.mean(tail)\n",
        "  return CVaR\n",
        "\n",
        "\n",
        "def CVaR_99(y_true, y_pred):\n",
        "  alpha = 0.99\n",
        "  loss = -(y_pred - y_true)\n",
        "  VaR = tfp.stats.percentile(loss,alpha*100)\n",
        "  tail = loss[loss>=VaR]\n",
        "  CVaR = K.mean(tail)\n",
        "  return CVaR\n",
        "\n",
        "def entropic_1(y_true, y_pred):\n",
        "  Lambda = 1\n",
        "  ret = K.mean(K.exp(-Lambda*(y_pred - y_true)))\n",
        "  return ret \n"
      ],
      "execution_count": null,
      "outputs": []
    },
    {
      "cell_type": "code",
      "metadata": {
        "id": "2vg67UTsy-T5",
        "colab_type": "code",
        "colab": {}
      },
      "source": [
        "\n",
        "def VaR(x, a):\n",
        "  loss = -x\n",
        "  VaR = np.quantile(loss,a)\n",
        "  return VaR\n",
        "\n",
        "def ES(x, a):\n",
        "  loss = -x\n",
        "  VaR = np.quantile(loss,a)\n",
        "  tail = loss[loss >= VaR]\n",
        "  ret = np.mean(tail)\n",
        "  return ret\n"
      ],
      "execution_count": null,
      "outputs": []
    },
    {
      "cell_type": "code",
      "metadata": {
        "id": "nYFvT2wY_1en",
        "colab_type": "code",
        "colab": {}
      },
      "source": [
        "def entropic_riskmeasure(x,Lambda):\n",
        "      ret = (1/Lambda)*np.log(np.mean(np.exp(-Lambda*x)))\n",
        "      return ret\n",
        "\n",
        "def indifferenceprice_q_Z(Z,Lambda):\n",
        "  \n",
        "  q_Z = np.mean(entropic_riskmeasure(Z,Lambda)*moneymarket_discount_test)\n",
        "  return q_Z\n",
        "  \n",
        "def exponential_utility(x,Lambda):\n",
        "  ret = -np.mean(np.exp(-Lambda*x))\n",
        "  return ret"
      ],
      "execution_count": null,
      "outputs": []
    },
    {
      "cell_type": "code",
      "metadata": {
        "id": "01pnmiItYncy",
        "colab_type": "code",
        "colab": {}
      },
      "source": [
        "\n",
        "def scheduler2(epoch, lr):\n",
        "  if epoch % 5 == 0 and epoch != 0:\n",
        "        lr = lr * math.exp(-0.5)\n",
        "  return lr\n",
        "callback2 = tf.keras.callbacks.LearningRateScheduler(scheduler2)\n"
      ],
      "execution_count": null,
      "outputs": []
    },
    {
      "cell_type": "markdown",
      "metadata": {
        "id": "7mjaHWYMN5UG",
        "colab_type": "text"
      },
      "source": [
        "# S and U bonds"
      ]
    },
    {
      "cell_type": "code",
      "metadata": {
        "id": "G_gchTP6xEM2",
        "colab_type": "code",
        "colab": {}
      },
      "source": [
        "FeedSU_FNN95 = FeedSU_bond_FNN(trans_costs= False, charge= 0,selling = True,epsilon= 0.0)\n",
        "FeedSU_FNN99 = FeedSU_bond_FNN(trans_costs= False, charge= 0,selling = True, epsilon= 0.0)\n",
        "FeedSU_FNN99_costs = FeedSU_bond_FNN(trans_costs= True, charge= 0,selling = True, epsilon= 0.001)\n",
        "FeedSU_FNN95_costs = FeedSU_bond_FNN(trans_costs= True, charge= 0,selling = True,epsilon= 0.001)"
      ],
      "execution_count": null,
      "outputs": []
    },
    {
      "cell_type": "markdown",
      "metadata": {
        "id": "dAzNpJwkBCqC",
        "colab_type": "text"
      },
      "source": [
        "# train"
      ]
    },
    {
      "cell_type": "code",
      "metadata": {
        "id": "cR6W1uOXVUqo",
        "colab_type": "code",
        "colab": {}
      },
      "source": [
        "FeedSU_FNN95.compile(optimizer  =tf.keras.optimizers.Adam(learning_rate=0.005),loss = CVaR_95)\n",
        "FeedSU_FNN99.compile(optimizer  =tf.keras.optimizers.Adam(learning_rate=0.005),loss = CVaR_99)\n",
        "FeedSU_FNN99_costs.compile(optimizer  =  tf.keras.optimizers.Adam(learning_rate=0.005),loss = CVaR_99)\n",
        "FeedSU_FNN95_costs.compile(optimizer  = tf.keras.optimizers.Adam(learning_rate=0.005),loss = CVaR_95) "
      ],
      "execution_count": null,
      "outputs": []
    },
    {
      "cell_type": "code",
      "metadata": {
        "colab_type": "code",
        "id": "rlBnarFrNyt3",
        "colab": {}
      },
      "source": [
        "tf.keras.backend.set_learning_phase(1)\n",
        "history1 =  FeedSU_FNN99.fit(FeedSUtrain, ytrain_nocharge, batch_size=256, \\\n",
        "                             epochs =  20, callbacks=callback2, validation_split = 0.3)"
      ],
      "execution_count": null,
      "outputs": []
    },
    {
      "cell_type": "code",
      "metadata": {
        "id": "P-9EGyAG4Lm8",
        "colab_type": "code",
        "colab": {}
      },
      "source": [
        "tf.keras.backend.set_learning_phase(1)\n",
        "history2 =  FeedSU_FNN95.fit(FeedSUtrain, ytrain_nocharge, batch_size=256, \\\n",
        "                             epochs = 20, callbacks = callback2, validation_split = 0.3)"
      ],
      "execution_count": null,
      "outputs": []
    },
    {
      "cell_type": "code",
      "metadata": {
        "id": "3sHTtaW_TxvF",
        "colab_type": "code",
        "colab": {}
      },
      "source": [
        "tf.keras.backend.set_learning_phase(1)\n",
        "history3 =  FeedSU_FNN95_costs.fit(FeedSUtrain, ytrain_nocharge, batch_size=256, \\\n",
        "                                   epochs = 20, callbacks = callback2, validation_split = 0.3)"
      ],
      "execution_count": null,
      "outputs": []
    },
    {
      "cell_type": "code",
      "metadata": {
        "id": "N70Hl-FnT3Jh",
        "colab_type": "code",
        "colab": {}
      },
      "source": [
        "tf.keras.backend.set_learning_phase(1)\n",
        "history4 =  FeedSU_FNN99_costs.fit(FeedSUtrain, ytrain_nocharge, batch_size=256, \\\n",
        "                                   epochs = 20, callbacks = callback2, validation_split = 0.3)"
      ],
      "execution_count": null,
      "outputs": []
    },
    {
      "cell_type": "code",
      "metadata": {
        "id": "gFiz7YM04QX1",
        "colab_type": "code",
        "colab": {}
      },
      "source": [
        "tf.keras.backend.set_learning_phase(0)\n",
        "PnL_SU95nocharge = np.reshape(FeedSU_FNN95.predict(FeedSUtest),(ntest,))\n",
        "PnL_SU99nocharge  = np.reshape(FeedSU_FNN99.predict(FeedSUtest),(ntest,))\n"
      ],
      "execution_count": null,
      "outputs": []
    },
    {
      "cell_type": "code",
      "metadata": {
        "id": "S3vb2gaoyUrP",
        "colab_type": "code",
        "colab": {}
      },
      "source": [
        "PnL_SU99_costnocharge  = np.reshape(FeedSU_FNN99_costs.predict(FeedSUtest),(ntest,))\n",
        "PnL_SU95_costnocharge  = np.reshape(FeedSU_FNN95_costs.predict(FeedSUtest),(ntest,))"
      ],
      "execution_count": null,
      "outputs": []
    },
    {
      "cell_type": "code",
      "metadata": {
        "id": "VmkKV1BhTE-w",
        "colab_type": "code",
        "colab": {}
      },
      "source": [
        "#PnL_SU95 = PnL_SU95nocharge + charge/moneymarket_discount_test\n",
        "#PnL_SU99 = PnL_SU99nocharge + charge/moneymarket_discount_test\n",
        "PnL_SU95_cost= PnL_SU95_costnocharge + charge/moneymarket_discount_test\n",
        "PnL_SU99_cost = PnL_SU99_costnocharge + charge/moneymarket_discount_test"
      ],
      "execution_count": null,
      "outputs": []
    },
    {
      "cell_type": "code",
      "metadata": {
        "id": "6z6MTNCNWVo9",
        "colab_type": "code",
        "colab": {}
      },
      "source": [
        "PnL_gamma,_, _ ,_= HedgeWithS_Ubond(r_test, ntest, nSteps, charge = charge, tx_costs=False, epsilon = 0.0)\n",
        "PnL_gamma_cost,strategy_S, \\\n",
        "strategy_U, SU_costs = HedgeWithS_Ubond(r_test, ntest, nSteps, charge = charge, tx_costs=True, epsilon = 0.001)"
      ],
      "execution_count": null,
      "outputs": []
    },
    {
      "cell_type": "code",
      "metadata": {
        "id": "90rMCx-V2rKO",
        "colab_type": "code",
        "colab": {
          "base_uri": "https://localhost:8080/",
          "height": 401
        },
        "outputId": "d4b5c0e0-ba17-4883-989a-4227926df895"
      },
      "source": [
        "PnL_99_nocost = plt.figure()\n",
        "plt.hist([PnL_gamma, PnL_SU99],bins = 40, label = ['Model Hedge', 'Neural Networks'])\n",
        "plt.legend()\n",
        "plt.show()\n",
        "PnL_99_nocost.savefig(\"PnL_99_nocost.png\")\n",
        "#files.download(\"PnL_99_nocost.png\")\n",
        "print('.99gamma',ES(PnL_gamma,.99))\n",
        "print('.99NN',ES(PnL_SU99,.99))\n",
        "print('.95gamma',ES(PnL_gamma,.95))\n",
        "print('.95NN',ES(PnL_SU99,.95))\n",
        "print('gammamean',np.mean(PnL_gamma))\n",
        "print('NNmean',np.mean(PnL_SU99))\n",
        "print('gamma relative error',np.sqrt(np.mean(np.power(PnL_gamma,2)))/charge)\n",
        "print('NN relative error',np.sqrt(np.mean(np.power(PnL_SU99,2)))/charge)"
      ],
      "execution_count": null,
      "outputs": [
        {
          "output_type": "display_data",
          "data": {
            "image/png": "[encoded data removed]",
            "text/plain": [
              "<Figure size 432x288 with 1 Axes>"
            ]
          },
          "metadata": {
            "tags": [],
            "needs_background": "light"
          }
        },
        {
          "output_type": "stream",
          "text": [
            ".99gamma 0.00033972975520742566\n",
            ".99NN 0.00023652913830602876\n",
            ".95gamma 0.00027870231892742297\n",
            ".95NN 0.00018769437590289672\n",
            "gammamean -6.833248753121189e-05\n",
            "NNmean 4.17461175462561e-05\n",
            "gamma relative error 0.00012407288512711911\n",
            "NN relative error 0.00017007005421798872\n"
          ],
          "name": "stdout"
        }
      ]
    },
    {
      "cell_type": "code",
      "metadata": {
        "colab_type": "code",
        "id": "n7abIhJC2YMv",
        "colab": {
          "base_uri": "https://localhost:8080/",
          "height": 469
        },
        "outputId": "3e53877f-0f32-491d-db00-05fbd6f44565"
      },
      "source": [
        "PnL_95_nocost = plt.figure()\n",
        "plt.hist([PnL_gamma, PnL_SU95],bins = 40, label = ['Model Hedge', 'Neural Networks'])\n",
        "plt.legend()\n",
        "plt.show()\n",
        "print(max(PnL_SU95))\n",
        "print(max(PnL_gamma))\n",
        "PnL_95_nocost.savefig(\"PnL_95_nocost.png\")\n",
        "#files.download(\"PnL_95_nocost.png\")\n",
        "print('.99gamma',ES(PnL_gamma,.99))\n",
        "print('.99NN',ES(PnL_SU95,.99))\n",
        "print('.95gamma',ES(PnL_gamma,.95))\n",
        "print('.95NN',ES(PnL_SU95,.95))\n",
        "print('mean',np.mean(PnL_gamma))\n",
        "print('mean',np.mean(PnL_SU95))\n",
        "print(st.skew(PnL_gamma))\n",
        "print(st.skew(PnL_SU95))\n",
        "print('gamma relative error',np.sqrt(np.mean(np.power(PnL_gamma,2)))/charge)\n",
        "print('NN relative error',np.sqrt(np.mean(np.power(PnL_SU95,2)))/charge)"
      ],
      "execution_count": null,
      "outputs": [
        {
          "output_type": "display_data",
          "data": {
            "image/png": "[encoded data removed]",
            "text/plain": [
              "<Figure size 432x288 with 1 Axes>"
            ]
          },
          "metadata": {
            "tags": [],
            "needs_background": "light"
          }
        },
        {
          "output_type": "stream",
          "text": [
            "0.00035669955747286153\n",
            "0.00038961632262957124\n",
            ".99gamma 0.00033972975520742566\n",
            ".99NN 0.0001343480286668843\n",
            ".95gamma 0.00027870231892742297\n",
            ".95NN 9.779903533817691e-05\n",
            "mean -6.833248753121189e-05\n",
            "mean 2.570322540809286e-05\n",
            "-0.010708879283405305\n",
            "0.10535138523283819\n",
            "gamma relative error 0.00012407288512711911\n",
            "NN relative error 6.701431415115076e-05\n"
          ],
          "name": "stdout"
        }
      ]
    },
    {
      "cell_type": "code",
      "metadata": {
        "id": "MN0SmECIvLem",
        "colab_type": "code",
        "colab": {
          "base_uri": "https://localhost:8080/",
          "height": 265
        },
        "outputId": "c37d725b-89dc-4b41-8049-77088e18194b"
      },
      "source": [
        "PnL_95vs99_nocost = plt.figure()\n",
        "plt.hist([PnL_SU95 , PnL_SU99],bins = 40, label = ['95%CVaR', '99%CVaR'])\n",
        "plt.legend()\n",
        "plt.show()\n",
        "PnL_95vs99_nocost.savefig('PnL_95vs99_nocost.png')"
      ],
      "execution_count": null,
      "outputs": [
        {
          "output_type": "display_data",
          "data": {
            "image/png": "[encoded data removed]",
            "text/plain": [
              "<Figure size 432x288 with 1 Axes>"
            ]
          },
          "metadata": {
            "tags": [],
            "needs_background": "light"
          }
        }
      ]
    },
    {
      "cell_type": "code",
      "metadata": {
        "id": "Z3piWj9c8XSB",
        "colab_type": "code",
        "colab": {
          "base_uri": "https://localhost:8080/",
          "height": 349
        },
        "outputId": "1c9eaca1-4f1c-48d0-eb40-43a3eeb4f12f"
      },
      "source": [
        "PnL_99cost = plt.figure()\n",
        "PnL_99_cost = plt.hist([PnL_gamma_cost, PnL_SU99_cost,],bins = 40, label = ['Model Hedge', 'Neural Networks'])\n",
        "plt.title('$CVaR_{99\\%}$ optimality criterion' , loc='right', fontsize=11)\n",
        "plt.legend()\n",
        "plt.show()\n",
        "print(np.mean(PnL_SU99_cost))\n",
        "print(np.mean(PnL_gamma_cost))\n",
        "print('Model Hedge',ES(PnL_gamma_cost,.99))\n",
        "print('NN Hedge',ES(PnL_SU99_cost,.99))\n",
        "PnL_99cost.savefig('PnL_99cost.png')\n",
        "#files.download('PnL_99cost.png')"
      ],
      "execution_count": null,
      "outputs": [
        {
          "output_type": "display_data",
          "data": {
            "image/png": "[encoded data removed]",
            "text/plain": [
              "<Figure size 432x288 with 1 Axes>"
            ]
          },
          "metadata": {
            "tags": [],
            "needs_background": "light"
          }
        },
        {
          "output_type": "stream",
          "text": [
            "-0.0007577507737837671\n",
            "-0.002509027054880515\n",
            "Model Hedge 0.0027818374171737974\n",
            "NN Hedge 0.0009209625469659998\n"
          ],
          "name": "stdout"
        }
      ]
    },
    {
      "cell_type": "code",
      "metadata": {
        "colab_type": "code",
        "id": "VuLutNUP_jkg",
        "colab": {
          "base_uri": "https://localhost:8080/",
          "height": 349
        },
        "outputId": "de4123ac-a5a8-40d3-91bb-1accbff13386"
      },
      "source": [
        "PnL_95cost = plt.figure()\n",
        "PnL_95_cost = plt.hist([PnL_gamma_cost, PnL_SU95_cost,],bins = 40, label = ['Model Hedge', 'Neural Networks'])\n",
        "plt.title('$CVaR_{95\\%}$ optimality criterion' , loc='right', fontsize=11)\n",
        "plt.legend()\n",
        "plt.show()\n",
        "print(np.mean(PnL_SU95_cost))\n",
        "print(np.mean(PnL_gamma_cost))\n",
        "print('Model Hedge',ES(PnL_gamma_cost,.95))\n",
        "print('NN Hedge',ES(PnL_SU95_cost,.95))\n",
        "PnL_95cost.savefig('PnL_95cost.png')\n",
        "#files.download('PnL_95cost.png')"
      ],
      "execution_count": null,
      "outputs": [
        {
          "output_type": "display_data",
          "data": {
            "image/png": "[encoded data removed]",
            "text/plain": [
              "<Figure size 432x288 with 1 Axes>"
            ]
          },
          "metadata": {
            "tags": [],
            "needs_background": "light"
          }
        },
        {
          "output_type": "stream",
          "text": [
            "-0.0006782186638874251\n",
            "-0.002509027054880515\n",
            "Model Hedge 0.002719307876509928\n",
            "NN Hedge 0.0008127768339750315\n"
          ],
          "name": "stdout"
        }
      ]
    },
    {
      "cell_type": "code",
      "metadata": {
        "colab_type": "code",
        "id": "Dsovw9bg_y0y",
        "colab": {
          "base_uri": "https://localhost:8080/",
          "height": 265
        },
        "outputId": "23a20612-637c-4258-d756-1b1c8fa23146"
      },
      "source": [
        "test2 = plt.figure()\n",
        "PnL_95vs99_cost = plt.hist([PnL_SU95_cost , PnL_SU99_cost],bins = 40, label = ['95%CVaR', '99%CVaR'])\n",
        "plt.legend()\n",
        "plt.show()\n",
        "test2.savefig(\"PnL_95vs99_cost.png\")\n",
        "#files.download(\"PnL_95vs99_cost.png\")"
      ],
      "execution_count": null,
      "outputs": [
        {
          "output_type": "display_data",
          "data": {
            "image/png": "[encoded data removed]",
            "text/plain": [
              "<Figure size 432x288 with 1 Axes>"
            ]
          },
          "metadata": {
            "tags": [],
            "needs_background": "light"
          }
        }
      ]
    },
    {
      "cell_type": "code",
      "metadata": {
        "id": "taEsCcad0t3f",
        "colab_type": "code",
        "colab": {}
      },
      "source": [
        "def get_SU_NN_cost_realized(ntest, test_set, test_model):\n",
        "    totalcost_realized = np.zeros((ntest,nSteps+1))\n",
        "    for i in range(nSteps+1):\n",
        "        tf.keras.backend.set_learning_phase(0)\n",
        "        get_trans_costs = keras.Model(inputs=test_model.input, \\\n",
        "                                      outputs= test_model.get_layer(name = 'transanction_costs'+ str(i)).output)\n",
        "        cost_realized = get_trans_costs.predict(test_set)\n",
        "        cost_realized = np.sum(cost_realized, axis = -1)#add the costs of S and U bond together\n",
        "        totalcost_realized[:,i] = cost_realized\n",
        "    return totalcost_realized"
      ],
      "execution_count": null,
      "outputs": []
    },
    {
      "cell_type": "code",
      "metadata": {
        "id": "CzZqJ0rozS9H",
        "colab_type": "code",
        "colab": {}
      },
      "source": [
        "#run-time around 50mins, because we embed the \n",
        "#trading part(buy S, U and moneymarket) in the nerual network construction \n",
        "#for the convenience of outputting PnL\n",
        "#but this make the retriving of realized strategies and realized costs very slow\n",
        "#we can also put the trading part into the cost function, which means the cost function will be more complicated\n",
        "totalcost_NN95 = get_SU_NN_cost_realized(ntest,FeedSUtest, FeedSU_FNN95_costs)\n",
        "print(np.shape(SU_costs),np.shape(totalcost_NN95))"
      ],
      "execution_count": null,
      "outputs": []
    },
    {
      "cell_type": "code",
      "metadata": {
        "id": "yB3cF-lIee5l",
        "colab_type": "code",
        "colab": {
          "base_uri": "https://localhost:8080/",
          "height": 51
        },
        "outputId": "3100830a-561e-4b0d-cd01-fa1c2c78f423"
      },
      "source": [
        "NNtotalcost_NN95 = np.sum(totalcost_NN95,axis = -1)\n",
        "SU_model_totalcosts = np.sum(SU_costs,axis=-1)\n",
        "print(np.mean(NNtotalcost_NN95))\n",
        "print(np.mean(SU_model_totalcosts ))"
      ],
      "execution_count": null,
      "outputs": [
        {
          "output_type": "stream",
          "text": [
            "0.0007110929309588617\n",
            "0.0024101845038540875\n"
          ],
          "name": "stdout"
        }
      ]
    },
    {
      "cell_type": "code",
      "metadata": {
        "id": "MdljY-BXSQLm",
        "colab_type": "code",
        "colab": {
          "base_uri": "https://localhost:8080/",
          "height": 265
        },
        "outputId": "dff2111b-6a99-4e6e-e1fe-a7c14d94f527"
      },
      "source": [
        "costcompare = plt.figure()\n",
        "plt.hist(SU_model_totalcosts  ,bins = 30, label = 'Model Hedge') \n",
        "plt.hist(NNtotalcost_NN95,color='steelblue' ,bins = 30,label = 'Neural Networks')\n",
        "plt.legend()\n",
        "costcompare.savefig(\"costcompare.png\")\n",
        "#files.download(\"costcompare.png\")"
      ],
      "execution_count": null,
      "outputs": [
        {
          "output_type": "display_data",
          "data": {
            "image/png": "[encoded data removed]",
            "text/plain": [
              "<Figure size 432x288 with 1 Axes>"
            ]
          },
          "metadata": {
            "tags": [],
            "needs_background": "light"
          }
        }
      ]
    },
    {
      "cell_type": "code",
      "metadata": {
        "id": "Jd146q8YKnsY",
        "colab_type": "code",
        "colab": {
          "base_uri": "https://localhost:8080/",
          "height": 569
        },
        "outputId": "b259a9cc-4325-4efd-f7ce-c6146f879416"
      },
      "source": [
        "modelcosts = plt.figure()\n",
        "plt.hist(SU_model_totalcosts,bins = 30,rwidth=0.9)\n",
        "plt.ticklabel_format(axis=\"x\", style=\"sci\", scilimits=(0,0))\n",
        "plt.title(r'Realized total costs of Model Hedge', size = 11)\n",
        "plt.show()\n",
        "modelcosts.savefig('modelcost.png')\n",
        "NNcost = plt.figure()\n",
        "plt.hist(NNtotalcost_NN95 ,bins = 30, rwidth=0.9,color='steelblue') \n",
        "plt.ticklabel_format(axis=\"x\", style=\"sci\", scilimits=(0,0))\n",
        "plt.title(r'Realized total costs of Neural Networks($\\alpha = 0.95$)', size = 11)\n",
        "NNcost.savefig('NNcost.png')\n",
        "#files.download('NNcost.png')"
      ],
      "execution_count": null,
      "outputs": [
        {
          "output_type": "display_data",
          "data": {
            "image/png": "[encoded data removed]",
            "text/plain": [
              "<Figure size 432x288 with 1 Axes>"
            ]
          },
          "metadata": {
            "tags": [],
            "needs_background": "light"
          }
        },
        {
          "output_type": "display_data",
          "data": {
            "image/png": "[encoded data removed]",
            "text/plain": [
              "<Figure size 432x288 with 1 Axes>"
            ]
          },
          "metadata": {
            "tags": [],
            "needs_background": "light"
          }
        }
      ]
    },
    {
      "cell_type": "markdown",
      "metadata": {
        "colab_type": "text",
        "id": "2x5uu-NH02G9"
      },
      "source": [
        "#price asymtotics"
      ]
    },
    {
      "cell_type": "code",
      "metadata": {
        "colab_type": "code",
        "id": "bs-f4IJR02HV",
        "colab": {
          "base_uri": "https://localhost:8080/",
          "height": 51
        },
        "outputId": "6edba4e7-aa1a-48d3-9fc6-b246ef76a088"
      },
      "source": [
        "eps = np.zeros((5))\n",
        "for i in range(5):\n",
        "  eps[i] = 2**(-(i+6))\n",
        "print(eps)\n",
        "print(len(eps))"
      ],
      "execution_count": null,
      "outputs": [
        {
          "output_type": "stream",
          "text": [
            "[0.015625   0.0078125  0.00390625 0.00195312 0.00097656]\n",
            "5\n"
          ],
          "name": "stdout"
        }
      ]
    },
    {
      "cell_type": "code",
      "metadata": {
        "colab_type": "code",
        "id": "Kn3dOSDO02HW",
        "colab": {}
      },
      "source": [
        "#compute pi(-Z)\n",
        "History_riskadjusted= []\n",
        "riskadjusted =  []\n",
        "for i in range(len(eps)):\n",
        "    SU_95 =  FeedSU_bond_FNN(trans_costs= True, charge= 0,selling = True, epsilon= eps[i])\n",
        "    SU_95.compile(optimizer= tf.keras.optimizers.Adam(\n",
        "    learning_rate=0.005),loss = CVaR_95)\n",
        "    history = SU_95.fit(FeedSUtrain, ytrain_nocharge, batch_size=256, \\\n",
        "                        epochs = 20, callbacks = callback2, validation_split = 0.3)\n",
        "    History_riskadjusted.append(history)\n",
        "    riskadjusted.append(SU_95)"
      ],
      "execution_count": null,
      "outputs": []
    },
    {
      "cell_type": "markdown",
      "metadata": {
        "colab_type": "text",
        "id": "IlraJq6j02H1"
      },
      "source": [
        "$p(-Z) = E[D(0,T)]\\pi(-Z) = E[D(0,T)][\\pi(-Z) -\\pi(0)]\\geq E[D(0,T)]\\pi(-Z)$"
      ]
    },
    {
      "cell_type": "code",
      "metadata": {
        "colab_type": "code",
        "id": "tuyjtWpfBCBS",
        "colab": {}
      },
      "source": [
        "\n",
        "def computePnL_eps(eps):\n",
        "  PnL_95eps =[]\n",
        "  for i in range(len(eps)):\n",
        "    PnL_95eps.append(np.reshape(riskadjusted[i].predict(FeedSUtest),(ntest,)))\n",
        "  return PnL_95eps\n",
        "\n",
        "def compute_pi_Z(eps, PnL_95eps):\n",
        "  pi_Z_95 =[]\n",
        "  for i in range(len(eps)):\n",
        "      pi_Z_95.append(np.mean(ES(PnL_95eps[i],.95)*moneymarket_discount_test))\n",
        "  return pi_Z_95\n",
        "def indifferenceprice_asymptotics(PnL_eps,eps):\n",
        "  log_p_q = []\n",
        "  indifferenceprice = []\n",
        "  for i in range(len(eps)):\n",
        "    indifferenceprice.append(indifferenceprice_q_Z(PnL_eps[i],1))\n",
        "  \n",
        "  for i in range(len(eps)):\n",
        "     log_p_q .append(np.log(indifferenceprice[i]- charge))\n",
        "\n",
        "  log_eps = np.log(np.array(eps))\n",
        "  log_p_q  = np.array( log_p_q )\n",
        "  indifference_asymptotic = plt.figure()\n",
        "  coef_2 = np.polyfit(log_eps, log_p_q ,1)\n",
        "  poly1d_fn_2 = np.poly1d(coef_2) \n",
        "  plt.plot(log_eps, log_p_q , 'o', log_eps, poly1d_fn_2(log_eps),'--')\n",
        "  plt.xlabel('$log(\\epsilon)$') \n",
        "  plt.ylabel('$log(p_\\epsilon - p_0)$') \n",
        "  indifference_asymptotic.savefig('indifference_asymptotic_95.png')\n",
        "  #files.download('indifference_asymptotic_95.png')\n",
        "  print('regression coef' ,coef_2)\n",
        "  return indifferenceprice"
      ],
      "execution_count": null,
      "outputs": []
    },
    {
      "cell_type": "markdown",
      "metadata": {
        "colab_type": "text",
        "id": "nkhkLJpk02IC"
      },
      "source": [
        "\n",
        "\n",
        "entropic risk measure\n",
        "$\\rho(X) = \\frac{1}{\\lambda}\\log(\\mathbb{E}[\\exp(-\\lambda X)])$\n",
        "\n",
        "untility indifference price\n",
        "\n",
        "$p_\\epsilon \\\\\n",
        "= \\mathbb{E}[D(t)] (\\pi(-Z) - \\pi(0))\\\\\n",
        "=\\mathbb{E}[D(t)](\\rho(-Z + (\\delta\\cdot S)_T - C_T(\\delta))- \\rho(0))\\\\\n",
        "= \\mathbb{E}[D(t)](\\rho(-Z + (\\delta\\cdot S)_T - C_T(\\delta)))$\n"
      ]
    },
    {
      "cell_type": "code",
      "metadata": {
        "id": "t8DNsXc2BdEA",
        "colab_type": "code",
        "colab": {}
      },
      "source": [
        "tf.keras.backend.set_learning_phase(0)\n",
        "PnL_95eps = computePnL_eps(eps)"
      ],
      "execution_count": null,
      "outputs": []
    },
    {
      "cell_type": "code",
      "metadata": {
        "colab_type": "code",
        "id": "PShFuDNhRlvg",
        "colab": {
          "base_uri": "https://localhost:8080/",
          "height": 337
        },
        "outputId": "ff68e4ef-9339-452c-a03c-3769c8c7deb6"
      },
      "source": [
        "#pi(-Z)\n",
        "pi_Z_95 = compute_pi_Z(eps, PnL_95eps)\n",
        "print(' discounted pi(-1)',pi_Z_95)\n",
        "#Pi_95 = ES(PnL_SU95nocharge, 0.95)\n",
        "#exponential utility indifference price\n",
        "indifferenceprice = indifferenceprice_asymptotics(PnL_95eps,eps)\n",
        "print('utility indifference price',indifferenceprice)\n"
      ],
      "execution_count": null,
      "outputs": [
        {
          "output_type": "stream",
          "text": [
            " discounted pi(-1) [1.0128964736532031, 1.0116748723279991, 1.0093668694406364, 1.0080948903874338, 1.007467511937595]\n",
            "regression coef [ 0.86239871 -1.16274826]\n",
            "utility indifference price [0.9963177491565097, 0.993610590642891, 0.9911075205064196, 0.9898100011166965, 0.989147944044794]\n"
          ],
          "name": "stdout"
        },
        {
          "output_type": "display_data",
          "data": {
            "image/png": "[encoded data removed]",
            "text/plain": [
              "<Figure size 432x288 with 1 Axes>"
            ]
          },
          "metadata": {
            "tags": [],
            "needs_background": "light"
          }
        }
      ]
    },
    {
      "cell_type": "code",
      "metadata": {
        "id": "5PQmT_QGCfhe",
        "colab_type": "code",
        "colab": {
          "base_uri": "https://localhost:8080/",
          "height": 51
        },
        "outputId": "971f1919-f212-4efd-aac8-bbcbaab54b33"
      },
      "source": [
        "p_adjusted_95_nocosts  =  np.mean(ES(PnL_SU95nocharge, 0.95)*moneymarket_discount_test)\n",
        "print('riskadjustednocosts',p_adjusted_95_nocosts )\n",
        "indifferenceprice_nocost =  indifferenceprice_q_Z(PnL_SU95nocharge,1)\n",
        "print(indifferenceprice_nocost)"
      ],
      "execution_count": null,
      "outputs": [
        {
          "output_type": "stream",
          "text": [
            "riskadjustednocosts 1.007039188592226\n",
            "0.9884714606768481\n"
          ],
          "name": "stdout"
        }
      ]
    },
    {
      "cell_type": "markdown",
      "metadata": {
        "id": "DedlRIcyDIaH",
        "colab_type": "text"
      },
      "source": [
        "# Codes for  discussion about indifference price"
      ]
    },
    {
      "cell_type": "code",
      "metadata": {
        "colab_type": "code",
        "id": "DcR-1RnpO6WA",
        "colab": {
          "base_uri": "https://localhost:8080/",
          "height": 85
        },
        "outputId": "ae30a0bb-3c15-46b9-96f1-7f99ff776809"
      },
      "source": [
        "# Generate the training and testing data set\n",
        "rtrain_Q,times = simulateVasicek(a, b, sigma , T, r0, ntrain, nSteps)\n",
        "r_0 = [r0]\n",
        "r_0 = np.repeat(r_0,ntrain,axis =0)\n",
        "r_train_Q = np.concatenate((np.reshape(r_0,(ntrain,1)),rtrain_Q),axis = 1)\n",
        "print(np.shape(r_train_Q))\n",
        "rtest_Q,times = simulateVasicek(a, b, sigma , T, r0, ntest, nSteps)\n",
        "r_0 = [r0]\n",
        "r_0 = np.repeat(r_0,ntest,axis =0)\n",
        "r_test_Q = np.concatenate((np.reshape(r_0,(ntest,1)),rtest_Q),axis = 1)\n",
        "\n",
        "print(np.shape(r_test_Q))\n",
        "price_S_Q = np.zeros((ntrain,nSteps+1))\n",
        "price_U_Q = np.zeros((ntrain,nSteps+1))\n",
        "prc_S_test_Q = np.zeros((ntest,nSteps+1))\n",
        "prc_U_test_Q = np.zeros((ntest,nSteps+1))\n",
        "moneymarket_Q = np.zeros((ntrain,nSteps+1))\n",
        "moneymarket_test_Q = np.zeros((ntest,nSteps+1))\n",
        "for i in range(nSteps+1):\n",
        "    price_U_Q[:,i],_ , _   = affinebondprcing(a,b, sigma, times[i] , U , r_train_Q[:,i])\n",
        "    price_S_Q[:,i],_ , _   = affinebondprcing(a,b, sigma, times[i] , S , r_train_Q[:,i])\n",
        "    prc_U_test_Q[:,i],_ , _ = affinebondprcing(a,b, sigma, times[i] , U , r_test_Q[:,i])\n",
        "    prc_S_test_Q[:,i],_ , _ = affinebondprcing(a,b, sigma, times[i] , S , r_test_Q[:,i])\n",
        "    moneymarket_Q[:,i] = ShortMaturityPricing(r_train_Q[:,i])\n",
        "    moneymarket_test_Q[:,i] = ShortMaturityPricing(r_test_Q[:,i])\n",
        "FeedSUtrain_Q = []\n",
        "for i in range(nSteps+1):\n",
        "  S_helper = np.reshape(price_S_Q[:,i],(ntrain,1))\n",
        "  U_helper = np.reshape(price_U_Q[:,i],(ntrain,1))\n",
        "  FeedSUtrain_Q.append(np.concatenate((S_helper,U_helper),axis =1))\n",
        "for i in range(nSteps+1):\n",
        "  moneymarket_helper = np.reshape(moneymarket_Q[:,i],(ntrain,1)) \n",
        "  FeedSUtrain_Q.append(moneymarket_helper)\n",
        "\n",
        "print(np.shape(FeedSUtrain_Q[1]))\n",
        "\n",
        "FeedSUtest_Q = []\n",
        "for i in range(nSteps+1):\n",
        "  S_helper = np.reshape(prc_S_test_Q[:,i],(ntest,1))\n",
        "  U_helper = np.reshape(prc_U_test_Q[:,i],(ntest,1))\n",
        "  FeedSUtest_Q.append(np.concatenate((S_helper, U_helper),axis =1))\n",
        "for i in range(nSteps+1):\n",
        "  moneymarket_helper = np.reshape(moneymarket_test_Q[:,i],(ntest,1)) \n",
        "  FeedSUtest_Q.append(moneymarket_helper)\n",
        " \n",
        "print(np.shape(FeedSUtest_Q[1]))"
      ],
      "execution_count": null,
      "outputs": [
        {
          "output_type": "stream",
          "text": [
            "(500000, 101)\n",
            "(300000, 101)\n",
            "(500000, 2)\n",
            "(300000, 2)\n"
          ],
          "name": "stdout"
        }
      ]
    },
    {
      "cell_type": "code",
      "metadata": {
        "id": "tTHfjzUTfNgR",
        "colab_type": "code",
        "colab": {}
      },
      "source": [
        "moneymarket_discount_test_Q = accrue_moneymarket_discount(moneymarket_test_Q)\n",
        "moneymarket_discount_train_Q= accrue_moneymarket_discount(moneymarket_Q)"
      ],
      "execution_count": null,
      "outputs": []
    },
    {
      "cell_type": "code",
      "metadata": {
        "id": "eEMBUQYuOV_J",
        "colab_type": "code",
        "colab": {}
      },
      "source": [
        "ytrain_nocharge_Q = -1*charge/moneymarket_discount_train_Q"
      ],
      "execution_count": null,
      "outputs": []
    },
    {
      "cell_type": "code",
      "metadata": {
        "id": "cAiKa1KiIRWn",
        "colab_type": "code",
        "colab": {}
      },
      "source": [
        "SU_entropic_P =  FeedSU_bond_FNN(trans_costs= True, charge= 0,selling = False, epsilon= eps[4])\n",
        "SU_entropic_P.compile(optimizer= tf.keras.optimizers.Adam(learning_rate=0.005),loss = entropic_1)\n",
        "SU_entropic_P.fit(FeedSUtrain , ytrain, batch_size=256, \\\n",
        "                  epochs = 20, callbacks = callback2, validation_split = 0.3)\n",
        "SU_entropic_Q =  FeedSU_bond_FNN(trans_costs= True, charge= 0,selling = False, epsilon= eps[4])\n",
        "SU_entropic_Q.compile(optimizer= tf.keras.optimizers.Adam(learning_rate=0.005),loss = entropic_1)\n",
        "SU_entropic_Q.fit(FeedSUtrain_Q, ytrain, batch_size=256, \\\n",
        "                  epochs = 20, callbacks = callback2, validation_split = 0.3)"
      ],
      "execution_count": null,
      "outputs": []
    },
    {
      "cell_type": "code",
      "metadata": {
        "id": "CfnhcnjEYlU7",
        "colab_type": "code",
        "colab": {}
      },
      "source": [
        "tf.keras.backend.set_learning_phase(0)\n",
        "PnL_entropic_P = np.reshape(SU_entropic_P.predict(FeedSUtest),(ntest,))\n",
        "PnL_entropic_Q = np.reshape(SU_entropic_Q.predict(FeedSUtest_Q),(ntest,))\n"
      ],
      "execution_count": null,
      "outputs": []
    },
    {
      "cell_type": "code",
      "metadata": {
        "id": "Tyu_wLRBpzzL",
        "colab_type": "code",
        "colab": {
          "base_uri": "https://localhost:8080/",
          "height": 299
        },
        "outputId": "e3151347-5d20-4ce1-deeb-b1a6ba437e5e"
      },
      "source": [
        "tradingEntropic_compare = plt.figure()\n",
        "plt.hist([PnL_entropic_Q,PnL_entropic_P], label = ['Q-measure', 'P-measure'] ,bins = 30,rwidth= 0.9)\n",
        "plt.title('Entropic risk measure as optimality criterion')\n",
        "plt.legend()\n",
        "plt.show()\n",
        "tradingEntropic_compare .savefig('entropic_PandQ.png')\n",
        "#files.download('entropic_PandQ.png')\n",
        "utility_P = exponential_utility(PnL_entropic_P,1)\n",
        "utility_Q = exponential_utility(PnL_entropic_Q,1)\n",
        "print(utility_P,utility_Q )"
      ],
      "execution_count": null,
      "outputs": [
        {
          "output_type": "display_data",
          "data": {
            "image/png": "[encoded data removed]",
            "text/plain": [
              "<Figure size 432x288 with 1 Axes>"
            ]
          },
          "metadata": {
            "tags": [],
            "needs_background": "light"
          }
        },
        {
          "output_type": "stream",
          "text": [
            "-0.96324074 -1.0000396\n"
          ],
          "name": "stdout"
        }
      ]
    },
    {
      "cell_type": "code",
      "metadata": {
        "id": "mXTVjgOqcj5C",
        "colab_type": "code",
        "colab": {}
      },
      "source": [
        "SU_95_P =  FeedSU_bond_FNN(trans_costs= True, charge= 0,selling = False, epsilon= eps[4])\n",
        "SU_95_P.compile(optimizer= tf.keras.optimizers.Adam(learning_rate=0.005),loss = CVaR_95)\n",
        "history_P = SU_95_P.fit(FeedSUtrain, ytrain, batch_size=256, \\\n",
        "                        epochs = 20, callbacks = callback2, validation_split = 0.3)\n",
        "SU_95_Q=  FeedSU_bond_FNN(trans_costs= True, charge= 0,selling = False, epsilon= eps[4])\n",
        "SU_95_Q.compile(optimizer= tf.keras.optimizers.Adam(learning_rate=0.005),loss = CVaR_95)\n",
        "history_Q = SU_95_Q.fit(FeedSUtrain_Q, ytrain, batch_size=256, \\\n",
        "                        epochs = 20, callbacks = callback2, validation_split = 0.3)\n"
      ],
      "execution_count": null,
      "outputs": []
    },
    {
      "cell_type": "code",
      "metadata": {
        "id": "APsg13_mc8iU",
        "colab_type": "code",
        "colab": {}
      },
      "source": [
        "tf.keras.backend.set_learning_phase(0)\n",
        "PnL_95_P = np.reshape(SU_95_P.predict(FeedSUtest),(ntest,))\n",
        "PnL_95_Q = np.reshape(SU_95_Q.predict(FeedSUtest_Q),(ntest,))"
      ],
      "execution_count": null,
      "outputs": []
    },
    {
      "cell_type": "code",
      "metadata": {
        "id": "finKxUcadAs4",
        "colab_type": "code",
        "colab": {
          "base_uri": "https://localhost:8080/",
          "height": 301
        },
        "outputId": "7a81d34e-2a93-4cff-84cc-63c379c0ce31"
      },
      "source": [
        "tradingCVaRcompare = plt.figure()\n",
        "plt.hist([PnL_95_Q,PnL_95_P] , label = ['Q-measure', 'P-measure'],bins = 30,rwidth= 0.9)\n",
        "plt.title('$CVaR_{95\\%}$ as optimality criterion')\n",
        "plt.legend()\n",
        "plt.show()\n",
        "tradingCVaRcompare.savefig('CVaR_PandQ.png')\n",
        "#files.download('CVaR_PandQ.png')\n",
        "utility_95_P = exponential_utility(PnL_95_P,1)\n",
        "utility_95_Q = exponential_utility(PnL_95_Q,1)\n",
        "print(utility_95_P,utility_95_Q )"
      ],
      "execution_count": null,
      "outputs": [
        {
          "output_type": "display_data",
          "data": {
            "image/png": "[encoded data removed]",
            "text/plain": [
              "<Figure size 432x288 with 1 Axes>"
            ]
          },
          "metadata": {
            "tags": []
          }
        },
        {
          "output_type": "stream",
          "text": [
            "-1.0000416 -1.0000424\n"
          ],
          "name": "stdout"
        }
      ]
    },
    {
      "cell_type": "code",
      "metadata": {
        "id": "0w9jiZ_GABsh",
        "colab_type": "code",
        "colab": {}
      },
      "source": [
        "History_entropic= []\n",
        "entropic_indiff =  []\n",
        "for i in range(len(eps)):\n",
        "    SU_entropic =  FeedSU_bond_FNN(trans_costs= True, charge= 0,selling = True, epsilon= eps[i])\n",
        "    SU_entropic.compile(optimizer= tf.keras.optimizers.Adam(\n",
        "    learning_rate=0.005),loss = entropic_1)\n",
        "    history = SU_entropic.fit(FeedSUtrain_Q, ytrain_nocharge_Q, batch_size=256, \\\n",
        "                              epochs = 20, callbacks = callback2, validation_split = 0.3)\n",
        "    History_entropic.append(history)\n",
        "    entropic_indiff.append(SU_entropic)\n"
      ],
      "execution_count": null,
      "outputs": []
    },
    {
      "cell_type": "code",
      "metadata": {
        "id": "qbRtFWuPF2ed",
        "colab_type": "code",
        "colab": {}
      },
      "source": [
        "PnL_entropiceps =[]\n",
        "for i in range(len(eps)):\n",
        "    PnL_entropiceps.append(np.reshape(entropic_indiff[i].predict(FeedSUtest),(ntest,)))\n",
        "\n"
      ],
      "execution_count": null,
      "outputs": []
    },
    {
      "cell_type": "code",
      "metadata": {
        "id": "eajpdcjxM3wY",
        "colab_type": "code",
        "colab": {}
      },
      "source": [
        "utility_indifferenceprice_Q = []\n",
        "for i in range(len(eps)):\n",
        "    utility_indifferenceprice_Q.append( np.mean(entropic_riskmeasure( PnL_entropiceps[i],1)*\\\n",
        "                                                moneymarket_discount_test_Q) )"
      ],
      "execution_count": null,
      "outputs": []
    },
    {
      "cell_type": "code",
      "metadata": {
        "id": "bBIig8ZSoCnJ",
        "colab_type": "code",
        "colab": {
          "base_uri": "https://localhost:8080/",
          "height": 34
        },
        "outputId": "85ba885f-1e7b-4742-f216-df363b9af13d"
      },
      "source": [
        "print(utility_indifferenceprice_Q)"
      ],
      "execution_count": null,
      "outputs": [
        {
          "output_type": "stream",
          "text": [
            "[0.9889855565491693, 0.988698293114629, 0.988553365294906, 0.9884867927598301, 0.9884464957562974]\n"
          ],
          "name": "stdout"
        }
      ]
    },
    {
      "cell_type": "code",
      "metadata": {
        "id": "X2TGrby2fQqM",
        "colab_type": "code",
        "colab": {
          "base_uri": "https://localhost:8080/",
          "height": 320
        },
        "outputId": "808625b1-5c4d-4fcf-e907-2e02def555d4"
      },
      "source": [
        "log_eps = np.log(np.array(eps))\n",
        "log_p_q_Q  = np.log(np.array( utility_indifferenceprice_Q ) - charge)\n",
        "indifference_asymptotic_Q = plt.figure()\n",
        "coef_3 = np.polyfit(log_eps, log_p_q_Q ,1)\n",
        "poly1d_fn_3 = np.poly1d(coef_3) \n",
        "plt.plot(log_eps, log_p_q_Q , 'o', log_eps, poly1d_fn_3(log_eps),'--')\n",
        "plt.title('Rate of convergence = 0.81')\n",
        "plt.xlabel('$log(\\epsilon)$') \n",
        "plt.ylabel('$log(p_\\epsilon - p_0)$') \n",
        "indifference_asymptotic_Q.savefig('indifference_asymptotic_Q.png')\n",
        "files.download('indifference_asymptotic_Q.png')\n",
        "print('regression coef' ,coef_3)"
      ],
      "execution_count": null,
      "outputs": [
        {
          "output_type": "display_data",
          "data": {
            "application/javascript": [
              "\n",
              "    async function download(id, filename, size) {\n",
              "      if (!google.colab.kernel.accessAllowed) {\n",
              "        return;\n",
              "      }\n",
              "      const div = document.createElement('div');\n",
              "      const label = document.createElement('label');\n",
              "      label.textContent = `Downloading \"${filename}\": `;\n",
              "      div.appendChild(label);\n",
              "      const progress = document.createElement('progress');\n",
              "      progress.max = size;\n",
              "      div.appendChild(progress);\n",
              "      document.body.appendChild(div);\n",
              "\n",
              "      const buffers = [];\n",
              "      let downloaded = 0;\n",
              "\n",
              "      const channel = await google.colab.kernel.comms.open(id);\n",
              "      // Send a message to notify the kernel that we're ready.\n",
              "      channel.send({})\n",
              "\n",
              "      for await (const message of channel.messages) {\n",
              "        // Send a message to notify the kernel that we're ready.\n",
              "        channel.send({})\n",
              "        if (message.buffers) {\n",
              "          for (const buffer of message.buffers) {\n",
              "            buffers.push(buffer);\n",
              "            downloaded += buffer.byteLength;\n",
              "            progress.value = downloaded;\n",
              "          }\n",
              "        }\n",
              "      }\n",
              "      const blob = new Blob(buffers, {type: 'application/binary'});\n",
              "      const a = document.createElement('a');\n",
              "      a.href = window.URL.createObjectURL(blob);\n",
              "      a.download = filename;\n",
              "      div.appendChild(a);\n",
              "      a.click();\n",
              "      div.remove();\n",
              "    }\n",
              "  "
            ],
            "text/plain": [
              "<IPython.core.display.Javascript object>"
            ]
          },
          "metadata": {
            "tags": []
          }
        },
        {
          "output_type": "display_data",
          "data": {
            "application/javascript": [
              "download(\"download_999c81b7-79ee-4de1-87e0-d17f6da0469f\", \"indifference_asymptotic_Q.png\", 15399)"
            ],
            "text/plain": [
              "<IPython.core.display.Javascript object>"
            ]
          },
          "metadata": {
            "tags": []
          }
        },
        {
          "output_type": "stream",
          "text": [
            "regression coef [ 0.8111561  -4.10259217]\n"
          ],
          "name": "stdout"
        },
        {
          "output_type": "display_data",
          "data": {
            "image/png": "[encoded data removed]",
            "text/plain": [
              "<Figure size 432x288 with 1 Axes>"
            ]
          },
          "metadata": {
            "tags": [],
            "needs_background": "light"
          }
        }
      ]
    },
    {
      "cell_type": "markdown",
      "metadata": {
        "id": "DV8sH4tkfnS_",
        "colab_type": "text"
      },
      "source": [
        "# Test the result of neutal networks"
      ]
    },
    {
      "cell_type": "markdown",
      "metadata": {
        "id": "62Bbd9OlMPxP",
        "colab_type": "text"
      },
      "source": [
        " We can retrive the realized strategy and evaluate the PnL 'manually' (use a tiny sample of size 100 to save time)"
      ]
    },
    {
      "cell_type": "code",
      "metadata": {
        "id": "7BYlJctPTyCT",
        "colab_type": "code",
        "colab": {}
      },
      "source": [
        "def get_SU_NN_strategy_realized(ntest, test_set, test_model):\n",
        "    S_realized = np.zeros((ntest,nSteps))\n",
        "    U_realized = np.zeros((ntest,nSteps))\n",
        "    for i in range(nSteps):\n",
        "        tf.keras.backend.set_learning_phase(0)\n",
        "        get_strategy = keras.Model(inputs=test_model.input, \\\n",
        "                                   outputs= test_model.get_layer(name = 'strategy'+ str(i)).output)\n",
        "        strategy_realized = get_strategy.predict(test_set)\n",
        "        S_realized[:,i] = strategy_realized[:,0]\n",
        "        U_realized[:,i] = strategy_realized[:,1]\n",
        "    return S_realized, U_realized"
      ],
      "execution_count": null,
      "outputs": []
    },
    {
      "cell_type": "code",
      "metadata": {
        "colab_type": "code",
        "id": "9Eh5-fWriAz-",
        "colab": {}
      },
      "source": [
        "\n",
        "ntest2 = 100\n",
        "rtest2,times = simulateVasicek(a, mu, sigma , T, r0, ntest2, nSteps)\n",
        "r_0 = [r0]\n",
        "r_0 = np.repeat(r_0,ntest2,axis =0)\n",
        "r_test2 = np.concatenate((np.reshape(r_0,(ntest2,1)),rtest2),axis = 1)\n",
        "prc_S_test2 = np.zeros((ntest2,nSteps+1))\n",
        "\n",
        "moneymarket_test2 = np.zeros((ntest2,nSteps+1))\n",
        "prc_U_test2 = np.zeros((ntest2,nSteps+1))\n",
        "\n",
        "for i in range(nSteps+1):\n",
        "    prc_S_test2[:,i],_ , _ = affinebondprcing(a,b, sigma, times[i] , S , r_test2[:,i])\n",
        "    prc_U_test2[:,i],_ , _ = affinebondprcing(a,b, sigma, times[i] , U , r_test2[:,i])\n",
        "    moneymarket_test2[:,i] = ShortMaturityPricing(r_test2[:,i])\n",
        "\n",
        "FeedSUtest_small = []\n",
        "\n",
        "for i in range(nSteps+1):\n",
        "  S_helper = np.reshape(prc_S_test2[:,i],(ntest2,1))\n",
        "  U_helper = np.reshape(prc_U_test2[:,i],(ntest2,1))\n",
        "  FeedSUtest_small.append(np.concatenate((S_helper, U_helper),axis =1))\n",
        "for i in range(nSteps+1):\n",
        "  moneymarket_helper = np.reshape(moneymarket_test2[:,i],(ntest2,1)) \n",
        "  FeedSUtest_small.append(moneymarket_helper)\n",
        "\n",
        "moneymarket_discount_test2 = accrue_moneymarket_discount(moneymarket_test2)"
      ],
      "execution_count": null,
      "outputs": []
    },
    {
      "cell_type": "code",
      "metadata": {
        "id": "BGqByVPUNmIZ",
        "colab_type": "code",
        "colab": {}
      },
      "source": [
        "cost_realized_SU = get_SU_NN_cost_realized(ntest2, FeedSUtest_small , FeedSU_FNN95_costs)\n",
        "S_realized, U_realized = get_SU_NN_strategy_realized(ntest2, FeedSUtest_small, FeedSU_FNN95_costs)"
      ],
      "execution_count": null,
      "outputs": []
    },
    {
      "cell_type": "code",
      "metadata": {
        "colab_type": "code",
        "id": "xqw8Mb5dQGh3",
        "colab": {}
      },
      "source": [
        "PnL_gamma_costs_2,strategy_S2, strategy_U2, \\\n",
        "cost_gamma2 = HedgeWithS_Ubond(r_test2, ntest2, nSteps, charge = charge,tx_costs=True, epsilon = 0.001)"
      ],
      "execution_count": null,
      "outputs": []
    },
    {
      "cell_type": "code",
      "metadata": {
        "id": "DdNAhvt6WZe-",
        "colab_type": "code",
        "colab": {}
      },
      "source": [
        "def evaluate_PnL(S_realized,U_realized,prc_S,prc_U,\\\n",
        "                 moneymarket,charge,epsilon):\n",
        "    initial = charge\n",
        "    \n",
        "    wealth = charge - np.multiply(S_realized[:,0],prc_S[:,0])-  np.multiply(U_realized[:,0],prc_U[:,0])\n",
        "    abschange = np.abs(np.multiply(S_realized[:,0],prc_S[:,0])) + np.abs(np.multiply(U_realized[:,0],prc_U[:,0]))\n",
        "    cost = abschange*epsilon\n",
        "    wealth  = np.divide((wealth - cost),moneymarket_test2[:,0])\n",
        "    total_cost = cost\n",
        "    for i in range(nSteps-1):\n",
        "      rebalance =  np.multiply((S_realized[:,i+1] - S_realized[:,i]),prc_S[:,i+1]) +  \\\n",
        "      np.multiply((U_realized[:,i+1] - U_realized[:,i]),prc_U[:,i+1])\n",
        "      abschange =  np.abs(np.multiply((S_realized[:,i+1] - S_realized[:,i]),prc_S[:,i+1]))+ \\\n",
        "      np.abs(np.multiply((U_realized[:,i+1] - U_realized[:,i]),prc_U[:,i+1]))\n",
        "      cost = abschange*epsilon\n",
        "      wealth = wealth - rebalance - cost\n",
        "      wealth  = np.divide(wealth,moneymarket_test2[:,i+1])\n",
        "      total_cost = total_cost + cost\n",
        "    liquidation =  np.multiply(S_realized[:,-1],prc_S[:,-1]) + \\\n",
        "    np.multiply(U_realized[:,-1],prc_U[:,-1])\n",
        "    abschange = np.abs(np.multiply(S_realized[:,-1],prc_S[:,-1])) + \\\n",
        "    np.abs(np.multiply(U_realized[:,-1],prc_U[:,-1]))\n",
        "    cost = abschange*epsilon\n",
        "    wealth = wealth + liquidation - cost -1\n",
        "    total_cost = total_cost + cost\n",
        "    return wealth, total_cost"
      ],
      "execution_count": null,
      "outputs": []
    },
    {
      "cell_type": "code",
      "metadata": {
        "id": "sex02191aQot",
        "colab_type": "code",
        "colab": {}
      },
      "source": [
        "test_PnL_manually, total_cost_manually = evaluate_PnL(S_realized,U_realized,\\\n",
        "                                                      prc_S_test2,prc_U_test2,moneymarket_test2,charge,epsilon = 0.001)"
      ],
      "execution_count": null,
      "outputs": []
    },
    {
      "cell_type": "code",
      "metadata": {
        "id": "npz20lMTaj7b",
        "colab_type": "code",
        "colab": {}
      },
      "source": [
        "tf.keras.backend.set_learning_phase(0)\n",
        "PnL_SU_95_cost_small_nocharge = np.reshape(FeedSU_FNN95_costs.predict(FeedSUtest_small), (ntest2,))\n",
        "PnL_SU_95_cost_small = PnL_SU_95_cost_small_nocharge + charge/moneymarket_discount_test2"
      ],
      "execution_count": null,
      "outputs": []
    },
    {
      "cell_type": "code",
      "metadata": {
        "id": "4iKOLQl4HhvW",
        "colab_type": "code",
        "colab": {
          "base_uri": "https://localhost:8080/",
          "height": 293
        },
        "outputId": "2718aef5-e147-4fc8-e657-fabcc6ad071a"
      },
      "source": [
        "plt.plot(cost_realized_SU[50,1:99], label = 'Neural network costs')\n",
        "plt.plot(cost_gamma2[50,1:99],label = 'Model costs')\n",
        "plt.legend()"
      ],
      "execution_count": null,
      "outputs": [
        {
          "output_type": "execute_result",
          "data": {
            "text/plain": [
              "<matplotlib.legend.Legend at 0x7fe62c8a34a8>"
            ]
          },
          "metadata": {
            "tags": []
          },
          "execution_count": 68
        },
        {
          "output_type": "display_data",
          "data": {
            "image/png": "[encoded data removed]",
            "text/plain": [
              "<Figure size 432x288 with 1 Axes>"
            ]
          },
          "metadata": {
            "tags": [],
            "needs_background": "light"
          }
        }
      ]
    },
    {
      "cell_type": "code",
      "metadata": {
        "id": "VjG6jaCybdvU",
        "colab_type": "code",
        "colab": {
          "base_uri": "https://localhost:8080/",
          "height": 282
        },
        "outputId": "d48c0b4f-7273-498e-b4c9-36cb61da0237"
      },
      "source": [
        "plt.hist([test_PnL_manually,PnL_SU_95_cost_small], \\\n",
        "         label = [ 'Manually test result','Neutral networks codes result'], bins = 50)\n",
        "plt.legend()"
      ],
      "execution_count": null,
      "outputs": [
        {
          "output_type": "execute_result",
          "data": {
            "text/plain": [
              "<matplotlib.legend.Legend at 0x7fe63595e518>"
            ]
          },
          "metadata": {
            "tags": []
          },
          "execution_count": 69
        },
        {
          "output_type": "display_data",
          "data": {
            "image/png": "[encoded data removed]",
            "text/plain": [
              "<Figure size 432x288 with 1 Axes>"
            ]
          },
          "metadata": {
            "tags": [],
            "needs_background": "light"
          }
        }
      ]
    },
    {
      "cell_type": "markdown",
      "metadata": {
        "id": "uA46-HhmMhPW",
        "colab_type": "text"
      },
      "source": [
        "We can confirm that the output PnL from neural networks is correct."
      ]
    },
    {
      "cell_type": "code",
      "metadata": {
        "id": "n2UDSYyEb_Lz",
        "colab_type": "code",
        "colab": {
          "base_uri": "https://localhost:8080/",
          "height": 299
        },
        "outputId": "f7b8f979-6ccc-4086-d6c1-8704e63d9fc7"
      },
      "source": [
        "plt.hist(PnL_gamma_costs_2, label = 'Model Hedge')\n",
        "plt.hist(PnL_SU_95_cost_small, label = 'Neural Networks')\n",
        "plt.title('Hedging P&L')\n",
        "plt.legend()"
      ],
      "execution_count": null,
      "outputs": [
        {
          "output_type": "execute_result",
          "data": {
            "text/plain": [
              "<matplotlib.legend.Legend at 0x7fe62bed6e48>"
            ]
          },
          "metadata": {
            "tags": []
          },
          "execution_count": 70
        },
        {
          "output_type": "display_data",
          "data": {
            "image/png": "[encoded data removed]",
            "text/plain": [
              "<Figure size 432x288 with 1 Axes>"
            ]
          },
          "metadata": {
            "tags": [],
            "needs_background": "light"
          }
        }
      ]
    },
    {
      "cell_type": "code",
      "metadata": {
        "id": "crJIZOOedD3O",
        "colab_type": "code",
        "colab": {
          "base_uri": "https://localhost:8080/",
          "height": 299
        },
        "outputId": "f8263782-75b3-46f8-f2cc-d516e79c2033"
      },
      "source": [
        "modelcost = np.sum(cost_gamma2, axis = -1)\n",
        "NNcost = np.sum(cost_realized_SU, axis = -1)\n",
        "np.shape(cost_realized_SU)\n",
        "np.shape(cost_gamma2)\n",
        "plt.hist(modelcost, label = 'Model Hedge')\n",
        "plt.hist(total_cost_manually, label = 'Neural Networks')\n",
        "plt.title('Realized total costs')\n",
        "plt.legend()"
      ],
      "execution_count": null,
      "outputs": [
        {
          "output_type": "execute_result",
          "data": {
            "text/plain": [
              "<matplotlib.legend.Legend at 0x7fe62be9c128>"
            ]
          },
          "metadata": {
            "tags": []
          },
          "execution_count": 71
        },
        {
          "output_type": "display_data",
          "data": {
            "image/png": "[encoded data removed]",
            "text/plain": [
              "<Figure size 432x288 with 1 Axes>"
            ]
          },
          "metadata": {
            "tags": [],
            "needs_background": "light"
          }
        }
      ]
    }
  ]
}
